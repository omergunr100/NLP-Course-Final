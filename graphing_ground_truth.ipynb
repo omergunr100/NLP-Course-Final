{
 "cells": [
  {
   "cell_type": "code",
   "execution_count": 12,
   "id": "initial_id",
   "metadata": {
    "collapsed": true,
    "ExecuteTime": {
     "end_time": "2024-03-23T14:15:34.164358Z",
     "start_time": "2024-03-23T14:15:34.038404Z"
    }
   },
   "outputs": [],
   "source": [
    "import plotly.express as px\n",
    "import pandas as pd\n",
    "import json\n",
    "\n",
    "from sentence_transformers import SentenceTransformer\n",
    "from sklearn.decomposition import PCA"
   ]
  },
  {
   "cell_type": "code",
   "outputs": [],
   "source": [
    "files = [\"examples/banking-clusters-min-size-10-solution.json\", \n",
    "         \"examples/covid19-clusters-min-size-10-solution.json\"]"
   ],
   "metadata": {
    "collapsed": false,
    "ExecuteTime": {
     "end_time": "2024-03-23T14:00:03.173209Z",
     "start_time": "2024-03-23T14:00:03.169464Z"
    }
   },
   "id": "aa58cd1f3f055e93",
   "execution_count": 4
  },
  {
   "cell_type": "code",
   "outputs": [],
   "source": [
    "clustering_examples = []\n",
    "for file in files:\n",
    "    with open(file, \"r\") as fin:\n",
    "        clustering_examples.append(json.load(fin))"
   ],
   "metadata": {
    "collapsed": false,
    "ExecuteTime": {
     "end_time": "2024-03-23T14:00:12.252854Z",
     "start_time": "2024-03-23T14:00:12.247503Z"
    }
   },
   "id": "a374311e9ea5061b",
   "execution_count": 5
  },
  {
   "cell_type": "code",
   "outputs": [],
   "source": [
    "dfs = []\n",
    "for clustering in clustering_examples:\n",
    "    row_list = []\n",
    "    cluster_id = 0\n",
    "    for cluster in clustering[\"cluster_list\"]:\n",
    "        title = cluster[\"cluster_name\"]\n",
    "        \n",
    "        for request in cluster[\"requests\"]:\n",
    "            row_list.append({\"text\": request, \"cluster\": cluster_id, \"title\": title})\n",
    "        \n",
    "        cluster_id += 1\n",
    "    \n",
    "    for request in clustering[\"unclustered\"]:\n",
    "        row_list.append({\"text\": request, \"cluster\": -1, \"title\": \"Unclustered\"})\n",
    "    \n",
    "    dfs.append(pd.DataFrame(\n",
    "        data=row_list,\n",
    "        columns=[\"text\", \"cluster\", \"title\"]\n",
    "    ))"
   ],
   "metadata": {
    "collapsed": false,
    "ExecuteTime": {
     "end_time": "2024-03-23T14:12:40.091630Z",
     "start_time": "2024-03-23T14:12:40.076323Z"
    }
   },
   "id": "2281747a0b48eaad",
   "execution_count": 6
  },
  {
   "cell_type": "code",
   "outputs": [],
   "source": [
    "encoder = SentenceTransformer('all-MiniLM-L6-v2')"
   ],
   "metadata": {
    "collapsed": false,
    "ExecuteTime": {
     "end_time": "2024-03-23T14:14:02.463342Z",
     "start_time": "2024-03-23T14:13:57.991606Z"
    }
   },
   "id": "f8133559bce43fc4",
   "execution_count": 9
  },
  {
   "cell_type": "code",
   "outputs": [],
   "source": [
    "for df in dfs:\n",
    "    df['encoded'] = df['text'].map(lambda x: encoder.encode(x))"
   ],
   "metadata": {
    "collapsed": false,
    "ExecuteTime": {
     "end_time": "2024-03-23T14:15:19.540661Z",
     "start_time": "2024-03-23T14:14:45.930417Z"
    }
   },
   "id": "1e56131603c0681e",
   "execution_count": 11
  },
  {
   "cell_type": "code",
   "outputs": [],
   "source": [
    "for df in dfs:\n",
    "    pca = PCA(n_components=3)\n",
    "    reduced = pca.fit_transform(df['encoded'].to_list())\n",
    "    for i in range(3):\n",
    "        df[f'reduced{str(i)}'] = reduced[:, i]"
   ],
   "metadata": {
    "collapsed": false,
    "ExecuteTime": {
     "end_time": "2024-03-23T14:16:29.651541Z",
     "start_time": "2024-03-23T14:16:29.613073Z"
    }
   },
   "id": "1036ff2dca643dda",
   "execution_count": 14
  },
  {
   "cell_type": "code",
   "outputs": [],
   "source": [
    "figs = []\n",
    "x, y, z = \"reduced0\", \"reduced1\", \"reduced2\"\n",
    "for df in dfs:\n",
    "    fig = px.scatter_3d(df, x=x, y=y, z=z,\n",
    "                        title=\"Examples\",\n",
    "                        hover_data={\n",
    "                            'text': True,\n",
    "                            'title': True,\n",
    "                            x: True,\n",
    "                            y: True,\n",
    "                            z: True\n",
    "                        },\n",
    "                        size_max=1.5,\n",
    "                        color='title')\n",
    "    figs.append(fig)"
   ],
   "metadata": {
    "collapsed": false,
    "ExecuteTime": {
     "end_time": "2024-03-23T14:19:18.173508Z",
     "start_time": "2024-03-23T14:19:17.985619Z"
    }
   },
   "id": "a55fc27d6b94e73f",
   "execution_count": 18
  },
  {
   "cell_type": "code",
   "outputs": [],
   "source": [
    "for i, fig in enumerate(figs):\n",
    "    fig.write_html(f\"graphing/example{i}.html\")"
   ],
   "metadata": {
    "collapsed": false,
    "ExecuteTime": {
     "end_time": "2024-03-23T14:19:29.632638Z",
     "start_time": "2024-03-23T14:19:18.992858Z"
    }
   },
   "id": "c352fd38331646e0",
   "execution_count": 19
  },
  {
   "cell_type": "code",
   "outputs": [],
   "source": [],
   "metadata": {
    "collapsed": false
   },
   "id": "8b63ca3b288b2fa3"
  }
 ],
 "metadata": {
  "kernelspec": {
   "display_name": "Python 3",
   "language": "python",
   "name": "python3"
  },
  "language_info": {
   "codemirror_mode": {
    "name": "ipython",
    "version": 2
   },
   "file_extension": ".py",
   "mimetype": "text/x-python",
   "name": "python",
   "nbconvert_exporter": "python",
   "pygments_lexer": "ipython2",
   "version": "2.7.6"
  }
 },
 "nbformat": 4,
 "nbformat_minor": 5
}
