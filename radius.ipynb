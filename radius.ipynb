{
 "cells": [
  {
   "cell_type": "code",
   "execution_count": 1,
   "id": "initial_id",
   "metadata": {
    "collapsed": true,
    "ExecuteTime": {
     "end_time": "2024-03-20T12:16:44.675271Z",
     "start_time": "2024-03-20T12:16:42.154570Z"
    }
   },
   "outputs": [],
   "source": [
    "import json\n",
    "\n",
    "import numpy as np\n",
    "\n",
    "import alt_main"
   ]
  },
  {
   "cell_type": "code",
   "outputs": [],
   "source": [
    "banking_csv_filename = \"data/banking-unrecognized-requests.csv\"\n",
    "covid19_csv_filename = \"data/covid19-unrecognized-requests.csv\"\n",
    "banking_json_filename = \"examples/banking-clusters-min-size-10-solution.json\"\n",
    "covid19_json_filename = \"examples/covid19-clusters-min-size-10-solution.json\""
   ],
   "metadata": {
    "collapsed": false,
    "ExecuteTime": {
     "end_time": "2024-03-20T12:16:44.680279Z",
     "start_time": "2024-03-20T12:16:44.676404Z"
    }
   },
   "id": "3c4ba9107e9bd766",
   "execution_count": 2
  },
  {
   "cell_type": "code",
   "outputs": [],
   "source": [
    "with open(banking_json_filename, \"r\") as f:\n",
    "    banking_dict = json.load(f)\n",
    "with open(covid19_json_filename, \"r\") as f:\n",
    "    covid19_dict = json.load(f) "
   ],
   "metadata": {
    "collapsed": false,
    "ExecuteTime": {
     "end_time": "2024-03-20T12:16:44.693881Z",
     "start_time": "2024-03-20T12:16:44.680279Z"
    }
   },
   "id": "ddb03b1a6fffeab",
   "execution_count": 3
  },
  {
   "cell_type": "code",
   "outputs": [],
   "source": [
    "encoder = alt_main.create_sentence_transformer_model()"
   ],
   "metadata": {
    "collapsed": false,
    "ExecuteTime": {
     "end_time": "2024-03-20T12:16:48.096427Z",
     "start_time": "2024-03-20T12:16:44.694887Z"
    }
   },
   "id": "a9ad64fb8be327f5",
   "execution_count": 4
  },
  {
   "cell_type": "code",
   "outputs": [],
   "source": [
    "def calculate_clusters_radius(clusters: dict):\n",
    "    for cluster in clusters['cluster_list']:\n",
    "        cluster['encodings'] = encoder.encode(cluster['requests']) \n",
    "        cluster['centroid'] = np.mean(cluster['encodings'], axis=0)\n",
    "        cluster['radius'] = max(np.linalg.norm(encoding - cluster['centroid']) for encoding in cluster['encodings'])"
   ],
   "metadata": {
    "collapsed": false,
    "ExecuteTime": {
     "end_time": "2024-03-20T12:35:01.247440Z",
     "start_time": "2024-03-20T12:35:01.241911Z"
    }
   },
   "id": "256bc8539ff5da6c",
   "execution_count": 47
  },
  {
   "cell_type": "code",
   "outputs": [],
   "source": [
    "calculate_clusters_radius(banking_dict)"
   ],
   "metadata": {
    "collapsed": false,
    "ExecuteTime": {
     "end_time": "2024-03-20T12:35:06.420229Z",
     "start_time": "2024-03-20T12:35:01.561260Z"
    }
   },
   "id": "eae59686e13224a9",
   "execution_count": 48
  },
  {
   "cell_type": "code",
   "outputs": [],
   "source": [
    "calculate_clusters_radius(covid19_dict)"
   ],
   "metadata": {
    "collapsed": false,
    "ExecuteTime": {
     "end_time": "2024-03-20T12:35:07.678009Z",
     "start_time": "2024-03-20T12:35:06.421247Z"
    }
   },
   "id": "c840a6fe99bd67d4",
   "execution_count": 49
  },
  {
   "cell_type": "code",
   "outputs": [],
   "source": [
    "def get_max_cluster_radius(clusters: dict):\n",
    "    return max(cluster['radius'] for cluster in clusters['cluster_list'])"
   ],
   "metadata": {
    "collapsed": false,
    "ExecuteTime": {
     "end_time": "2024-03-20T12:35:07.681751Z",
     "start_time": "2024-03-20T12:35:07.679015Z"
    }
   },
   "id": "3775b297df80f47",
   "execution_count": 50
  },
  {
   "cell_type": "code",
   "outputs": [
    {
     "data": {
      "text/plain": "0.7550682"
     },
     "execution_count": 51,
     "metadata": {},
     "output_type": "execute_result"
    }
   ],
   "source": [
    "get_max_cluster_radius(banking_dict)"
   ],
   "metadata": {
    "collapsed": false,
    "ExecuteTime": {
     "end_time": "2024-03-20T12:35:07.695883Z",
     "start_time": "2024-03-20T12:35:07.682757Z"
    }
   },
   "id": "84914d1c125f9963",
   "execution_count": 51
  },
  {
   "cell_type": "code",
   "outputs": [
    {
     "data": {
      "text/plain": "0.751299"
     },
     "execution_count": 52,
     "metadata": {},
     "output_type": "execute_result"
    }
   ],
   "source": [
    "get_max_cluster_radius(covid19_dict)"
   ],
   "metadata": {
    "collapsed": false,
    "ExecuteTime": {
     "end_time": "2024-03-20T12:35:07.706737Z",
     "start_time": "2024-03-20T12:35:07.696933Z"
    }
   },
   "id": "48bcc2a7ce6c0d01",
   "execution_count": 52
  },
  {
   "cell_type": "code",
   "outputs": [],
   "source": [
    "def get_d(clusters: dict):\n",
    "    d = 0\n",
    "    for cluster in clusters['cluster_list']:\n",
    "        sentences = cluster['requests']\n",
    "        encodings = encoder.encode(sentences)\n",
    "        \n",
    "        avg = 0\n",
    "        for encoding in encodings:\n",
    "            avg += encoding\n",
    "        avg /= len(encodings)\n",
    "        \n",
    "        # avg = np.mean(encodings)\n",
    "        \n",
    "        for encoding in encodings:\n",
    "            distance = np.linalg.norm(encoding - avg)\n",
    "            if distance > d:\n",
    "                d = distance\n",
    "        return d"
   ],
   "metadata": {
    "collapsed": false,
    "ExecuteTime": {
     "end_time": "2024-03-20T12:34:10.838276Z",
     "start_time": "2024-03-20T12:34:10.832928Z"
    }
   },
   "id": "1643f1965b46b85e",
   "execution_count": 44
  },
  {
   "cell_type": "code",
   "outputs": [
    {
     "data": {
      "text/plain": "0.71176225"
     },
     "execution_count": 45,
     "metadata": {},
     "output_type": "execute_result"
    }
   ],
   "source": [
    "get_d(banking_dict)"
   ],
   "metadata": {
    "collapsed": false,
    "ExecuteTime": {
     "end_time": "2024-03-20T12:34:11.494472Z",
     "start_time": "2024-03-20T12:34:11.268069Z"
    }
   },
   "id": "39cc537b6e8e2ed7",
   "execution_count": 45
  },
  {
   "cell_type": "code",
   "outputs": [
    {
     "data": {
      "text/plain": "0.67121166"
     },
     "execution_count": 46,
     "metadata": {},
     "output_type": "execute_result"
    }
   ],
   "source": [
    "get_d(covid19_dict)"
   ],
   "metadata": {
    "collapsed": false,
    "ExecuteTime": {
     "end_time": "2024-03-20T12:34:12.250748Z",
     "start_time": "2024-03-20T12:34:12.160512Z"
    }
   },
   "id": "d2a3fcc7c7df1323",
   "execution_count": 46
  }
 ],
 "metadata": {
  "kernelspec": {
   "display_name": "Python 3",
   "language": "python",
   "name": "python3"
  },
  "language_info": {
   "codemirror_mode": {
    "name": "ipython",
    "version": 2
   },
   "file_extension": ".py",
   "mimetype": "text/x-python",
   "name": "python",
   "nbconvert_exporter": "python",
   "pygments_lexer": "ipython2",
   "version": "2.7.6"
  }
 },
 "nbformat": 4,
 "nbformat_minor": 5
}
