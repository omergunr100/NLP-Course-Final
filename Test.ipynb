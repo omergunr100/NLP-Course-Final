{
 "cells": [
  {
   "cell_type": "code",
   "execution_count": 1,
   "id": "initial_id",
   "metadata": {
    "collapsed": true,
    "ExecuteTime": {
     "end_time": "2024-03-18T13:53:09.915288Z",
     "start_time": "2024-03-18T13:53:01.434556Z"
    }
   },
   "outputs": [
    {
     "name": "stderr",
     "output_type": "stream",
     "text": [
      "[nltk_data] Downloading package benepar_en3 to\n",
      "[nltk_data]     C:\\Users\\omere\\AppData\\Roaming\\nltk_data...\n",
      "[nltk_data]   Package benepar_en3 is already up-to-date!\n",
      "You are using the default legacy behaviour of the <class 'transformers.models.t5.tokenization_t5.T5Tokenizer'>. This is expected, and simply means that the `legacy` (previous) behavior will be used so nothing changes for you. If you want to use the new behaviour, set `legacy=False`. This should only be set if you understand what it means, and thoroughly read the reason why this was added as explained in https://github.com/huggingface/transformers/pull/24565\n"
     ]
    }
   ],
   "source": [
    "import json\n",
    "\n",
    "from pandas import DataFrame\n",
    "import numpy as np\n",
    "\n",
    "import compare_clustering_solutions\n",
    "import main"
   ]
  },
  {
   "cell_type": "code",
   "outputs": [],
   "source": [
    "with open('config.json', 'r') as json_file:\n",
    "    config = json.load(json_file)"
   ],
   "metadata": {
    "collapsed": false,
    "ExecuteTime": {
     "end_time": "2024-03-18T13:53:09.921123Z",
     "start_time": "2024-03-18T13:53:09.917341Z"
    }
   },
   "id": "2c95e9b48a1f3eff",
   "execution_count": 2
  },
  {
   "cell_type": "code",
   "outputs": [],
   "source": [
    "min_cluster_size = int(config['min_cluster_size'])"
   ],
   "metadata": {
    "collapsed": false,
    "ExecuteTime": {
     "end_time": "2024-03-18T13:53:09.935333Z",
     "start_time": "2024-03-18T13:53:09.922127Z"
    }
   },
   "id": "88bc1f5e354eba52",
   "execution_count": 3
  },
  {
   "cell_type": "code",
   "outputs": [],
   "source": [
    "df = main.init_dataframe(config['data_file'], main.create_sentence_transformer_model())"
   ],
   "metadata": {
    "collapsed": false,
    "ExecuteTime": {
     "end_time": "2024-03-18T13:56:06.846612Z",
     "start_time": "2024-03-18T13:53:09.936337Z"
    }
   },
   "id": "20f8f5a5dea7f58c",
   "execution_count": 4
  },
  {
   "cell_type": "code",
   "outputs": [
    {
     "ename": "TypeError",
     "evalue": "unhashable type: 'numpy.ndarray'",
     "output_type": "error",
     "traceback": [
      "\u001B[1;31m---------------------------------------------------------------------------\u001B[0m",
      "\u001B[1;31mTypeError\u001B[0m                                 Traceback (most recent call last)",
      "Cell \u001B[1;32mIn[5], line 1\u001B[0m\n\u001B[1;32m----> 1\u001B[0m distance_matrix \u001B[38;5;241m=\u001B[39m main\u001B[38;5;241m.\u001B[39mcalculate_distance_matrix(df)\n",
      "File \u001B[1;32mC:\\Omer\\חומר לימוד\\שנה ג\\עיבוד שפה טבעית\\שיעורי בית\\final-project\\project\\main.py:50\u001B[0m, in \u001B[0;36mcalculate_distance_matrix\u001B[1;34m(df)\u001B[0m\n\u001B[0;32m     48\u001B[0m \u001B[38;5;28;01mdef\u001B[39;00m \u001B[38;5;21mcalculate_distance_matrix\u001B[39m(df: DataFrame) \u001B[38;5;241m-\u001B[39m\u001B[38;5;241m>\u001B[39m DataFrame:\n\u001B[0;32m     49\u001B[0m     df_distance \u001B[38;5;241m=\u001B[39m pd\u001B[38;5;241m.\u001B[39mDataFrame(columns\u001B[38;5;241m=\u001B[39m[\u001B[38;5;124m'\u001B[39m\u001B[38;5;124mencoded\u001B[39m\u001B[38;5;124m'\u001B[39m, \u001B[38;5;241m*\u001B[39m\u001B[38;5;28mlist\u001B[39m(df[\u001B[38;5;124m'\u001B[39m\u001B[38;5;124mencoded\u001B[39m\u001B[38;5;124m'\u001B[39m])])\n\u001B[1;32m---> 50\u001B[0m     df_distance[\u001B[38;5;124m'\u001B[39m\u001B[38;5;124mencoded\u001B[39m\u001B[38;5;124m'\u001B[39m] \u001B[38;5;241m=\u001B[39m df[\u001B[38;5;124m'\u001B[39m\u001B[38;5;124mencoded\u001B[39m\u001B[38;5;124m'\u001B[39m]\n\u001B[0;32m     51\u001B[0m     \u001B[38;5;28;01mfor\u001B[39;00m index1, row1 \u001B[38;5;129;01min\u001B[39;00m df\u001B[38;5;241m.\u001B[39miterrows():\n\u001B[0;32m     52\u001B[0m         \u001B[38;5;28;01mfor\u001B[39;00m index2, row2 \u001B[38;5;129;01min\u001B[39;00m df[df\u001B[38;5;241m.\u001B[39mindex \u001B[38;5;241m>\u001B[39m\u001B[38;5;241m=\u001B[39m index1]\u001B[38;5;241m.\u001B[39miterrows():\n",
      "File \u001B[1;32mC:\\ProgramData\\anaconda3\\Lib\\site-packages\\pandas\\core\\frame.py:4084\u001B[0m, in \u001B[0;36mDataFrame.__setitem__\u001B[1;34m(self, key, value)\u001B[0m\n\u001B[0;32m   4080\u001B[0m \u001B[38;5;28;01melif\u001B[39;00m \u001B[38;5;28misinstance\u001B[39m(value, DataFrame):\n\u001B[0;32m   4081\u001B[0m     \u001B[38;5;28mself\u001B[39m\u001B[38;5;241m.\u001B[39m_set_item_frame_value(key, value)\n\u001B[0;32m   4082\u001B[0m \u001B[38;5;28;01melif\u001B[39;00m (\n\u001B[0;32m   4083\u001B[0m     is_list_like(value)\n\u001B[1;32m-> 4084\u001B[0m     \u001B[38;5;129;01mand\u001B[39;00m \u001B[38;5;129;01mnot\u001B[39;00m \u001B[38;5;28mself\u001B[39m\u001B[38;5;241m.\u001B[39mcolumns\u001B[38;5;241m.\u001B[39mis_unique\n\u001B[0;32m   4085\u001B[0m     \u001B[38;5;129;01mand\u001B[39;00m \u001B[38;5;241m1\u001B[39m \u001B[38;5;241m<\u001B[39m \u001B[38;5;28mlen\u001B[39m(\u001B[38;5;28mself\u001B[39m\u001B[38;5;241m.\u001B[39mcolumns\u001B[38;5;241m.\u001B[39mget_indexer_for([key])) \u001B[38;5;241m==\u001B[39m \u001B[38;5;28mlen\u001B[39m(value)\n\u001B[0;32m   4086\u001B[0m ):\n\u001B[0;32m   4087\u001B[0m     \u001B[38;5;66;03m# Column to set is duplicated\u001B[39;00m\n\u001B[0;32m   4088\u001B[0m     \u001B[38;5;28mself\u001B[39m\u001B[38;5;241m.\u001B[39m_setitem_array([key], value)\n\u001B[0;32m   4089\u001B[0m \u001B[38;5;28;01melse\u001B[39;00m:\n\u001B[0;32m   4090\u001B[0m     \u001B[38;5;66;03m# set column\u001B[39;00m\n",
      "File \u001B[1;32mproperties.pyx:36\u001B[0m, in \u001B[0;36mpandas._libs.properties.CachedProperty.__get__\u001B[1;34m()\u001B[0m\n",
      "File \u001B[1;32mC:\\ProgramData\\anaconda3\\Lib\\site-packages\\pandas\\core\\indexes\\base.py:2326\u001B[0m, in \u001B[0;36mIndex.is_unique\u001B[1;34m(self)\u001B[0m\n\u001B[0;32m   2293\u001B[0m \u001B[38;5;129m@cache_readonly\u001B[39m\n\u001B[0;32m   2294\u001B[0m \u001B[38;5;28;01mdef\u001B[39;00m \u001B[38;5;21mis_unique\u001B[39m(\u001B[38;5;28mself\u001B[39m) \u001B[38;5;241m-\u001B[39m\u001B[38;5;241m>\u001B[39m \u001B[38;5;28mbool\u001B[39m:\n\u001B[0;32m   2295\u001B[0m \u001B[38;5;250m    \u001B[39m\u001B[38;5;124;03m\"\"\"\u001B[39;00m\n\u001B[0;32m   2296\u001B[0m \u001B[38;5;124;03m    Return if the index has unique values.\u001B[39;00m\n\u001B[0;32m   2297\u001B[0m \n\u001B[1;32m   (...)\u001B[0m\n\u001B[0;32m   2324\u001B[0m \u001B[38;5;124;03m    True\u001B[39;00m\n\u001B[0;32m   2325\u001B[0m \u001B[38;5;124;03m    \"\"\"\u001B[39;00m\n\u001B[1;32m-> 2326\u001B[0m     \u001B[38;5;28;01mreturn\u001B[39;00m \u001B[38;5;28mself\u001B[39m\u001B[38;5;241m.\u001B[39m_engine\u001B[38;5;241m.\u001B[39mis_unique\n",
      "File \u001B[1;32mindex.pyx:251\u001B[0m, in \u001B[0;36mpandas._libs.index.IndexEngine.is_unique.__get__\u001B[1;34m()\u001B[0m\n",
      "File \u001B[1;32mindex.pyx:256\u001B[0m, in \u001B[0;36mpandas._libs.index.IndexEngine._do_unique_check\u001B[1;34m()\u001B[0m\n",
      "File \u001B[1;32mindex.pyx:318\u001B[0m, in \u001B[0;36mpandas._libs.index.IndexEngine._ensure_mapping_populated\u001B[1;34m()\u001B[0m\n",
      "File \u001B[1;32mpandas\\_libs\\hashtable_class_helper.pxi:7114\u001B[0m, in \u001B[0;36mpandas._libs.hashtable.PyObjectHashTable.map_locations\u001B[1;34m()\u001B[0m\n",
      "\u001B[1;31mTypeError\u001B[0m: unhashable type: 'numpy.ndarray'"
     ]
    }
   ],
   "source": [
    "distance_matrix = main.calculate_distance_matrix(df)"
   ],
   "metadata": {
    "collapsed": false,
    "ExecuteTime": {
     "end_time": "2024-03-18T13:56:09.009493Z",
     "start_time": "2024-03-18T13:56:06.847656Z"
    }
   },
   "id": "3bdedad87e764dbe",
   "execution_count": 5
  },
  {
   "cell_type": "code",
   "outputs": [],
   "source": [
    "distance_matrix"
   ],
   "metadata": {
    "collapsed": false,
    "ExecuteTime": {
     "end_time": "2024-03-18T13:56:09.011510Z",
     "start_time": "2024-03-18T13:56:09.011510Z"
    }
   },
   "id": "311f65035d652c9c"
  },
  {
   "cell_type": "code",
   "outputs": [],
   "source": [
    "df = main.dbscan_clustering(df, 0.9)"
   ],
   "metadata": {
    "collapsed": false
   },
   "id": "81832b4afc30417",
   "execution_count": null
  },
  {
   "cell_type": "code",
   "outputs": [],
   "source": [
    "df['cluster'].value_counts()"
   ],
   "metadata": {
    "collapsed": false
   },
   "id": "4272cb139bd955",
   "execution_count": null
  },
  {
   "cell_type": "code",
   "outputs": [],
   "source": [
    "df"
   ],
   "metadata": {
    "collapsed": false
   },
   "id": "f2d9389611047512",
   "execution_count": null
  },
  {
   "cell_type": "code",
   "outputs": [],
   "source": [
    "df2 = df.copy(deep=True)"
   ],
   "metadata": {
    "collapsed": false
   },
   "id": "eb392a2c8ac31db2",
   "execution_count": null
  },
  {
   "cell_type": "code",
   "outputs": [],
   "source": [
    "main.filter_clusters(df, min_cluster_size)"
   ],
   "metadata": {
    "collapsed": false
   },
   "id": "6ba8440779b9cc55",
   "execution_count": null
  },
  {
   "cell_type": "code",
   "outputs": [],
   "source": [
    "main.reverse_cluster(df)"
   ],
   "metadata": {
    "collapsed": false
   },
   "id": "dc3acdfc0907a53",
   "execution_count": null
  },
  {
   "cell_type": "code",
   "outputs": [],
   "source": [
    "main.dataframe_to_json(df, config['output_file'])"
   ],
   "metadata": {
    "collapsed": false
   },
   "id": "e24d575c24172c0c",
   "execution_count": null
  },
  {
   "cell_type": "code",
   "outputs": [],
   "source": [
    "compare_clustering_solutions.evaluate_clustering(config['example_solution_file'], config['output_file'])"
   ],
   "metadata": {
    "collapsed": false
   },
   "id": "ef1c268908d01bd7",
   "execution_count": null
  }
 ],
 "metadata": {
  "kernelspec": {
   "display_name": "Python 3",
   "language": "python",
   "name": "python3"
  },
  "language_info": {
   "codemirror_mode": {
    "name": "ipython",
    "version": 2
   },
   "file_extension": ".py",
   "mimetype": "text/x-python",
   "name": "python",
   "nbconvert_exporter": "python",
   "pygments_lexer": "ipython2",
   "version": "2.7.6"
  }
 },
 "nbformat": 4,
 "nbformat_minor": 5
}
