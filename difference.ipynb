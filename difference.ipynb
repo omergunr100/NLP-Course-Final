{
 "cells": [
  {
   "cell_type": "code",
   "execution_count": 1,
   "id": "initial_id",
   "metadata": {
    "collapsed": true,
    "ExecuteTime": {
     "end_time": "2024-03-20T14:09:39.389877Z",
     "start_time": "2024-03-20T14:09:36.543147Z"
    }
   },
   "outputs": [],
   "source": [
    "import json\n",
    "\n",
    "import pandas as pd\n",
    "from pandas import DataFrame\n",
    "import numpy as np\n",
    "\n",
    "import compare_clustering_solutions\n",
    "import alt_main"
   ]
  },
  {
   "cell_type": "code",
   "outputs": [],
   "source": [
    "with open('config.json', 'r') as json_file:\n",
    "    config = json.load(json_file)"
   ],
   "metadata": {
    "collapsed": false,
    "ExecuteTime": {
     "end_time": "2024-03-20T14:09:39.395453Z",
     "start_time": "2024-03-20T14:09:39.391980Z"
    }
   },
   "id": "2c95e9b48a1f3eff",
   "execution_count": 2
  },
  {
   "cell_type": "code",
   "outputs": [],
   "source": [
    "min_cluster_size = int(config['min_cluster_size'])"
   ],
   "metadata": {
    "collapsed": false,
    "ExecuteTime": {
     "end_time": "2024-03-20T14:09:39.405800Z",
     "start_time": "2024-03-20T14:09:39.396492Z"
    }
   },
   "id": "88bc1f5e354eba52",
   "execution_count": 3
  },
  {
   "cell_type": "code",
   "outputs": [],
   "source": [
    "df = alt_main.read_lines(config['data_file'])"
   ],
   "metadata": {
    "collapsed": false,
    "ExecuteTime": {
     "end_time": "2024-03-20T14:09:39.424627Z",
     "start_time": "2024-03-20T14:09:39.406806Z"
    }
   },
   "id": "ed28cc8650209471",
   "execution_count": 4
  },
  {
   "cell_type": "code",
   "outputs": [],
   "source": [
    "alt_main.encode_sentences(df, alt_main.create_sentence_transformer_model())"
   ],
   "metadata": {
    "collapsed": false,
    "ExecuteTime": {
     "end_time": "2024-03-20T14:10:05.030031Z",
     "start_time": "2024-03-20T14:09:39.425647Z"
    }
   },
   "id": "a90aef7c4aab6afb",
   "execution_count": 5
  },
  {
   "cell_type": "code",
   "outputs": [],
   "source": [
    "df, clusters = alt_main.cluster_requests(df, 0.756)"
   ],
   "metadata": {
    "collapsed": false,
    "ExecuteTime": {
     "end_time": "2024-03-20T14:10:05.788366Z",
     "start_time": "2024-03-20T14:10:05.032057Z"
    }
   },
   "id": "63fc46719d9b92aa",
   "execution_count": 6
  },
  {
   "cell_type": "code",
   "outputs": [],
   "source": [
    "result = alt_main.transform_clusters_dict(df, clusters, min_cluster_size)"
   ],
   "metadata": {
    "collapsed": false,
    "ExecuteTime": {
     "end_time": "2024-03-20T14:10:05.820154Z",
     "start_time": "2024-03-20T14:10:05.789381Z"
    }
   },
   "id": "7c3f4f070a48404b",
   "execution_count": 7
  },
  {
   "cell_type": "code",
   "outputs": [],
   "source": [
    "alt_main.output_result(result, config['output_file'])"
   ],
   "metadata": {
    "collapsed": false,
    "ExecuteTime": {
     "end_time": "2024-03-20T14:10:05.892781Z",
     "start_time": "2024-03-20T14:10:05.821190Z"
    }
   },
   "id": "56d33dcef5099aa2",
   "execution_count": 8
  },
  {
   "cell_type": "code",
   "outputs": [],
   "source": [
    "def diff(my_result: dict, example_result: dict):\n",
    "    example_sentences = [request for cluster in example_result['cluster_list'] for request in cluster['requests']] + example_result['unclustered']\n",
    "    my_sentences = [request for cluster in my_result['cluster_list'] for request in cluster['requests']] + my_result['unclustered']\n",
    "    # find the difference between the two lists\n",
    "    return set(example_sentences) - set(my_sentences)"
   ],
   "metadata": {
    "collapsed": false,
    "ExecuteTime": {
     "end_time": "2024-03-20T14:10:05.900169Z",
     "start_time": "2024-03-20T14:10:05.895057Z"
    }
   },
   "id": "41aef1dfca218962",
   "execution_count": 9
  },
  {
   "cell_type": "code",
   "outputs": [],
   "source": [
    "with open(config['example_solution_file'], \"r\", encoding=\"utf-8\") as f:\n",
    "    example_result = json.load(f)\n",
    "    difference = diff(result, example_result)"
   ],
   "metadata": {
    "collapsed": false,
    "ExecuteTime": {
     "end_time": "2024-03-20T14:10:05.916206Z",
     "start_time": "2024-03-20T14:10:05.901274Z"
    }
   },
   "id": "11e236eebe6edd71",
   "execution_count": 10
  },
  {
   "cell_type": "code",
   "outputs": [
    {
     "data": {
      "text/plain": "set()"
     },
     "execution_count": 11,
     "metadata": {},
     "output_type": "execute_result"
    }
   ],
   "source": [
    "difference"
   ],
   "metadata": {
    "collapsed": false,
    "ExecuteTime": {
     "end_time": "2024-03-20T14:10:05.927565Z",
     "start_time": "2024-03-20T14:10:05.917222Z"
    }
   },
   "id": "6a5bccfa57cdd01c",
   "execution_count": 11
  },
  {
   "cell_type": "code",
   "outputs": [
    {
     "name": "stdout",
     "output_type": "stream",
     "text": [
      "clusters in 1st and 2nd solution: 65 and 55\n",
      "unclustered requests in 1st and 2nd solution: 262 and 274\n",
      "rand score: 0.9704095376985332\n",
      "adjusted rand score: 0.5425135588017189\n"
     ]
    }
   ],
   "source": [
    "compare_clustering_solutions.evaluate_clustering(config['example_solution_file'], config['output_file'])"
   ],
   "metadata": {
    "collapsed": false,
    "ExecuteTime": {
     "end_time": "2024-03-20T14:10:05.949990Z",
     "start_time": "2024-03-20T14:10:05.928661Z"
    }
   },
   "id": "77cde856d245fc89",
   "execution_count": 12
  }
 ],
 "metadata": {
  "kernelspec": {
   "display_name": "Python 3",
   "language": "python",
   "name": "python3"
  },
  "language_info": {
   "codemirror_mode": {
    "name": "ipython",
    "version": 2
   },
   "file_extension": ".py",
   "mimetype": "text/x-python",
   "name": "python",
   "nbconvert_exporter": "python",
   "pygments_lexer": "ipython2",
   "version": "2.7.6"
  }
 },
 "nbformat": 4,
 "nbformat_minor": 5
}
