{
 "cells": [
  {
   "cell_type": "code",
   "execution_count": 1,
   "id": "initial_id",
   "metadata": {
    "collapsed": true,
    "ExecuteTime": {
     "end_time": "2024-03-16T20:43:41.448771Z",
     "start_time": "2024-03-16T20:43:33.885188Z"
    }
   },
   "outputs": [
    {
     "name": "stderr",
     "output_type": "stream",
     "text": [
      "[nltk_data] Downloading package benepar_en3 to\n",
      "[nltk_data]     C:\\Users\\omere\\AppData\\Roaming\\nltk_data...\n",
      "[nltk_data]   Package benepar_en3 is already up-to-date!\n",
      "You are using the default legacy behaviour of the <class 'transformers.models.t5.tokenization_t5.T5Tokenizer'>. This is expected, and simply means that the `legacy` (previous) behavior will be used so nothing changes for you. If you want to use the new behaviour, set `legacy=False`. This should only be set if you understand what it means, and thoroughly read the reason why this was added as explained in https://github.com/huggingface/transformers/pull/24565\n"
     ]
    }
   ],
   "source": [
    "import json\n",
    "\n",
    "from pandas import DataFrame\n",
    "import numpy as np\n",
    "\n",
    "import compare_clustering_solutions\n",
    "import main"
   ]
  },
  {
   "cell_type": "code",
   "outputs": [],
   "source": [
    "with open('config.json', 'r') as json_file:\n",
    "    config = json.load(json_file)"
   ],
   "metadata": {
    "collapsed": false,
    "ExecuteTime": {
     "end_time": "2024-03-16T20:43:41.453996Z",
     "start_time": "2024-03-16T20:43:41.450283Z"
    }
   },
   "id": "2c95e9b48a1f3eff",
   "execution_count": 2
  },
  {
   "cell_type": "code",
   "outputs": [],
   "source": [
    "min_cluster_size = int(config['min_cluster_size'])"
   ],
   "metadata": {
    "collapsed": false,
    "ExecuteTime": {
     "end_time": "2024-03-16T20:43:41.465861Z",
     "start_time": "2024-03-16T20:43:41.455002Z"
    }
   },
   "id": "88bc1f5e354eba52",
   "execution_count": 3
  },
  {
   "cell_type": "code",
   "outputs": [],
   "source": [
    "df = main.init_dataframe(config['data_file'], main.create_sentence_transformer_model())"
   ],
   "metadata": {
    "collapsed": false,
    "ExecuteTime": {
     "end_time": "2024-03-16T20:46:13.000348Z",
     "start_time": "2024-03-16T20:43:41.466866Z"
    }
   },
   "id": "20f8f5a5dea7f58c",
   "execution_count": 4
  },
  {
   "cell_type": "code",
   "outputs": [],
   "source": [
    "main.dbscan_clustering(df, min_cluster_size, 0.9)"
   ],
   "metadata": {
    "collapsed": false,
    "ExecuteTime": {
     "end_time": "2024-03-16T20:47:53.697237Z",
     "start_time": "2024-03-16T20:46:13.001355Z"
    }
   },
   "id": "81832b4afc30417",
   "execution_count": 5
  },
  {
   "cell_type": "code",
   "outputs": [
    {
     "data": {
      "text/plain": "cluster\n-1    2352\nName: count, dtype: int64"
     },
     "execution_count": 6,
     "metadata": {},
     "output_type": "execute_result"
    }
   ],
   "source": [
    "df['cluster'].value_counts()"
   ],
   "metadata": {
    "collapsed": false,
    "ExecuteTime": {
     "end_time": "2024-03-16T20:47:53.709560Z",
     "start_time": "2024-03-16T20:47:53.698761Z"
    }
   },
   "id": "4272cb139bd955",
   "execution_count": 6
  },
  {
   "cell_type": "code",
   "outputs": [
    {
     "data": {
      "text/plain": "        id                                               text Unnamed: 2  \\\n0        1                   can i order a new card to china?        NaN   \n1        2  i needed to send my friends some money urgentl...        NaN   \n2        3                freeze my account it's been hacked.        NaN   \n3        4  how much do i have to pay to accept an interna...        NaN   \n4        5             can i open an account for my children?        NaN   \n...    ...                                                ...        ...   \n2347  2348                           how old do i need to be?        NaN   \n2348  2349  my job requires me to do a lot of exchanging c...        NaN   \n2349  2350  what may be the reason that my transfer did no...        NaN   \n2350  2351  i made a mistake and did a transaction to a wr...        NaN   \n2351  2352  there was a transaction this morning that i'd ...        NaN   \n\n      visited  cluster  radius  \\\n0       False       -1     0.0   \n1       False       -1     0.0   \n2       False       -1     0.0   \n3       False       -1     0.0   \n4       False       -1     0.0   \n...       ...      ...     ...   \n2347    False       -1     0.0   \n2348    False       -1     0.0   \n2349    False       -1     0.0   \n2350    False       -1     0.0   \n2351    False       -1     0.0   \n\n                                                encoded  closest_to_number  \\\n0     [-0.04432588, 0.012412513, 0.036101382, -0.004...                  3   \n1     [0.023271214, 0.055090718, 0.07896119, -0.0016...                  3   \n2     [-0.037442137, -0.01197756, -0.01879613, -0.01...                  1   \n3     [0.0741217, -0.021437611, 0.0066109975, -0.015...                  0   \n4     [-0.05265326, -0.073123395, -0.024013028, 0.02...                  4   \n...                                                 ...                ...   \n2347  [0.08014633, -0.01600613, -0.02262891, 0.00635...                  2   \n2348  [-0.0060272296, -0.017250411, -0.03288973, -0....                  0   \n2349  [0.051582467, -0.046289217, 0.037318017, -0.02...                  2   \n2350  [0.004281744, 0.035633024, -0.009982602, 0.033...                  0   \n2351  [-0.01458028, 0.063153535, 0.025551666, 0.0037...                  0   \n\n      closest_neighbor_index  closest_neighbor_distance  \n0                     1691.0                   0.290516  \n1                     1993.0                   0.361839  \n2                       94.0                   0.712965  \n3                     1626.0                   0.674025  \n4                      583.0                   0.160554  \n...                      ...                        ...  \n2347                   252.0                   0.244012  \n2348                  1472.0                   0.635804  \n2349                   948.0                   0.276047  \n2350                  1977.0                   0.519134  \n2351                   808.0                   0.438141  \n\n[2352 rows x 10 columns]",
      "text/html": "<div>\n<style scoped>\n    .dataframe tbody tr th:only-of-type {\n        vertical-align: middle;\n    }\n\n    .dataframe tbody tr th {\n        vertical-align: top;\n    }\n\n    .dataframe thead th {\n        text-align: right;\n    }\n</style>\n<table border=\"1\" class=\"dataframe\">\n  <thead>\n    <tr style=\"text-align: right;\">\n      <th></th>\n      <th>id</th>\n      <th>text</th>\n      <th>Unnamed: 2</th>\n      <th>visited</th>\n      <th>cluster</th>\n      <th>radius</th>\n      <th>encoded</th>\n      <th>closest_to_number</th>\n      <th>closest_neighbor_index</th>\n      <th>closest_neighbor_distance</th>\n    </tr>\n  </thead>\n  <tbody>\n    <tr>\n      <th>0</th>\n      <td>1</td>\n      <td>can i order a new card to china?</td>\n      <td>NaN</td>\n      <td>False</td>\n      <td>-1</td>\n      <td>0.0</td>\n      <td>[-0.04432588, 0.012412513, 0.036101382, -0.004...</td>\n      <td>3</td>\n      <td>1691.0</td>\n      <td>0.290516</td>\n    </tr>\n    <tr>\n      <th>1</th>\n      <td>2</td>\n      <td>i needed to send my friends some money urgentl...</td>\n      <td>NaN</td>\n      <td>False</td>\n      <td>-1</td>\n      <td>0.0</td>\n      <td>[0.023271214, 0.055090718, 0.07896119, -0.0016...</td>\n      <td>3</td>\n      <td>1993.0</td>\n      <td>0.361839</td>\n    </tr>\n    <tr>\n      <th>2</th>\n      <td>3</td>\n      <td>freeze my account it's been hacked.</td>\n      <td>NaN</td>\n      <td>False</td>\n      <td>-1</td>\n      <td>0.0</td>\n      <td>[-0.037442137, -0.01197756, -0.01879613, -0.01...</td>\n      <td>1</td>\n      <td>94.0</td>\n      <td>0.712965</td>\n    </tr>\n    <tr>\n      <th>3</th>\n      <td>4</td>\n      <td>how much do i have to pay to accept an interna...</td>\n      <td>NaN</td>\n      <td>False</td>\n      <td>-1</td>\n      <td>0.0</td>\n      <td>[0.0741217, -0.021437611, 0.0066109975, -0.015...</td>\n      <td>0</td>\n      <td>1626.0</td>\n      <td>0.674025</td>\n    </tr>\n    <tr>\n      <th>4</th>\n      <td>5</td>\n      <td>can i open an account for my children?</td>\n      <td>NaN</td>\n      <td>False</td>\n      <td>-1</td>\n      <td>0.0</td>\n      <td>[-0.05265326, -0.073123395, -0.024013028, 0.02...</td>\n      <td>4</td>\n      <td>583.0</td>\n      <td>0.160554</td>\n    </tr>\n    <tr>\n      <th>...</th>\n      <td>...</td>\n      <td>...</td>\n      <td>...</td>\n      <td>...</td>\n      <td>...</td>\n      <td>...</td>\n      <td>...</td>\n      <td>...</td>\n      <td>...</td>\n      <td>...</td>\n    </tr>\n    <tr>\n      <th>2347</th>\n      <td>2348</td>\n      <td>how old do i need to be?</td>\n      <td>NaN</td>\n      <td>False</td>\n      <td>-1</td>\n      <td>0.0</td>\n      <td>[0.08014633, -0.01600613, -0.02262891, 0.00635...</td>\n      <td>2</td>\n      <td>252.0</td>\n      <td>0.244012</td>\n    </tr>\n    <tr>\n      <th>2348</th>\n      <td>2349</td>\n      <td>my job requires me to do a lot of exchanging c...</td>\n      <td>NaN</td>\n      <td>False</td>\n      <td>-1</td>\n      <td>0.0</td>\n      <td>[-0.0060272296, -0.017250411, -0.03288973, -0....</td>\n      <td>0</td>\n      <td>1472.0</td>\n      <td>0.635804</td>\n    </tr>\n    <tr>\n      <th>2349</th>\n      <td>2350</td>\n      <td>what may be the reason that my transfer did no...</td>\n      <td>NaN</td>\n      <td>False</td>\n      <td>-1</td>\n      <td>0.0</td>\n      <td>[0.051582467, -0.046289217, 0.037318017, -0.02...</td>\n      <td>2</td>\n      <td>948.0</td>\n      <td>0.276047</td>\n    </tr>\n    <tr>\n      <th>2350</th>\n      <td>2351</td>\n      <td>i made a mistake and did a transaction to a wr...</td>\n      <td>NaN</td>\n      <td>False</td>\n      <td>-1</td>\n      <td>0.0</td>\n      <td>[0.004281744, 0.035633024, -0.009982602, 0.033...</td>\n      <td>0</td>\n      <td>1977.0</td>\n      <td>0.519134</td>\n    </tr>\n    <tr>\n      <th>2351</th>\n      <td>2352</td>\n      <td>there was a transaction this morning that i'd ...</td>\n      <td>NaN</td>\n      <td>False</td>\n      <td>-1</td>\n      <td>0.0</td>\n      <td>[-0.01458028, 0.063153535, 0.025551666, 0.0037...</td>\n      <td>0</td>\n      <td>808.0</td>\n      <td>0.438141</td>\n    </tr>\n  </tbody>\n</table>\n<p>2352 rows × 10 columns</p>\n</div>"
     },
     "execution_count": 7,
     "metadata": {},
     "output_type": "execute_result"
    }
   ],
   "source": [
    "df"
   ],
   "metadata": {
    "collapsed": false,
    "ExecuteTime": {
     "end_time": "2024-03-16T20:38:24.553735Z",
     "start_time": "2024-03-16T20:38:24.537847Z"
    }
   },
   "id": "f2d9389611047512",
   "execution_count": 7
  },
  {
   "cell_type": "code",
   "outputs": [],
   "source": [
    "df2 = df.copy()"
   ],
   "metadata": {
    "collapsed": false
   },
   "id": "eb392a2c8ac31db2",
   "execution_count": null
  },
  {
   "cell_type": "code",
   "outputs": [],
   "source": [
    "df = df2.copy()"
   ],
   "metadata": {
    "collapsed": false
   },
   "id": "268e721d4bee5c34",
   "execution_count": null
  },
  {
   "cell_type": "code",
   "outputs": [],
   "source": [
    "main.filter_clusters(df, min_cluster_size)"
   ],
   "metadata": {
    "collapsed": false
   },
   "id": "6ba8440779b9cc55",
   "execution_count": null
  },
  {
   "cell_type": "code",
   "outputs": [],
   "source": [
    "main.reverse_cluster(df)"
   ],
   "metadata": {
    "collapsed": false
   },
   "id": "dc3acdfc0907a53"
  },
  {
   "cell_type": "code",
   "outputs": [],
   "source": [
    "main.dataframe_to_json(df, config['output_file'])"
   ],
   "metadata": {
    "collapsed": false
   },
   "id": "e24d575c24172c0c",
   "execution_count": null
  },
  {
   "cell_type": "code",
   "outputs": [],
   "source": [
    "compare_clustering_solutions.evaluate_clustering(config['example_solution_file'], config['output_file'])"
   ],
   "metadata": {
    "collapsed": false
   },
   "id": "ef1c268908d01bd7",
   "execution_count": null
  }
 ],
 "metadata": {
  "kernelspec": {
   "display_name": "Python 3",
   "language": "python",
   "name": "python3"
  },
  "language_info": {
   "codemirror_mode": {
    "name": "ipython",
    "version": 2
   },
   "file_extension": ".py",
   "mimetype": "text/x-python",
   "name": "python",
   "nbconvert_exporter": "python",
   "pygments_lexer": "ipython2",
   "version": "2.7.6"
  }
 },
 "nbformat": 4,
 "nbformat_minor": 5
}
