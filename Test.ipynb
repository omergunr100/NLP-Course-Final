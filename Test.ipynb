{
 "cells": [
  {
   "cell_type": "code",
   "execution_count": null,
   "id": "initial_id",
   "metadata": {
    "collapsed": true
   },
   "outputs": [],
   "source": [
    "import json\n",
    "\n",
    "from pandas import DataFrame\n",
    "import numpy as np\n",
    "\n",
    "import compare_clustering_solutions\n",
    "import main"
   ]
  },
  {
   "cell_type": "code",
   "outputs": [],
   "source": [
    "with open('config.json', 'r') as json_file:\n",
    "    config = json.load(json_file)"
   ],
   "metadata": {
    "collapsed": false
   },
   "id": "2c95e9b48a1f3eff",
   "execution_count": null
  },
  {
   "cell_type": "code",
   "outputs": [],
   "source": [
    "min_cluster_size = int(config['min_cluster_size'])"
   ],
   "metadata": {
    "collapsed": false
   },
   "id": "88bc1f5e354eba52",
   "execution_count": null
  },
  {
   "cell_type": "code",
   "outputs": [],
   "source": [
    "df = main.init_dataframe(config['data_file'], main.create_sentence_transformer_model())"
   ],
   "metadata": {
    "collapsed": false
   },
   "id": "20f8f5a5dea7f58c",
   "execution_count": null
  },
  {
   "cell_type": "code",
   "outputs": [],
   "source": [
    "df = main.dbscan_clustering(df, 0.9)"
   ],
   "metadata": {
    "collapsed": false
   },
   "id": "81832b4afc30417",
   "execution_count": null
  },
  {
   "cell_type": "code",
   "outputs": [],
   "source": [
    "df['cluster'].value_counts()"
   ],
   "metadata": {
    "collapsed": false
   },
   "id": "4272cb139bd955",
   "execution_count": null
  },
  {
   "cell_type": "code",
   "outputs": [],
   "source": [
    "df"
   ],
   "metadata": {
    "collapsed": false
   },
   "id": "f2d9389611047512",
   "execution_count": null
  },
  {
   "cell_type": "code",
   "outputs": [],
   "source": [
    "df2 = df.copy(deep=True)"
   ],
   "metadata": {
    "collapsed": false
   },
   "id": "eb392a2c8ac31db2",
   "execution_count": null
  },
  {
   "cell_type": "code",
   "outputs": [],
   "source": [
    "main.filter_clusters(df, min_cluster_size)"
   ],
   "metadata": {
    "collapsed": false
   },
   "id": "6ba8440779b9cc55",
   "execution_count": null
  },
  {
   "cell_type": "code",
   "outputs": [],
   "source": [
    "main.reverse_cluster(df)"
   ],
   "metadata": {
    "collapsed": false
   },
   "id": "dc3acdfc0907a53",
   "execution_count": null
  },
  {
   "cell_type": "code",
   "outputs": [],
   "source": [
    "main.dataframe_to_json(df, config['output_file'])"
   ],
   "metadata": {
    "collapsed": false
   },
   "id": "e24d575c24172c0c",
   "execution_count": null
  },
  {
   "cell_type": "code",
   "outputs": [],
   "source": [
    "compare_clustering_solutions.evaluate_clustering(config['example_solution_file'], config['output_file'])"
   ],
   "metadata": {
    "collapsed": false
   },
   "id": "ef1c268908d01bd7",
   "execution_count": null
  }
 ],
 "metadata": {
  "kernelspec": {
   "display_name": "Python 3",
   "language": "python",
   "name": "python3"
  },
  "language_info": {
   "codemirror_mode": {
    "name": "ipython",
    "version": 2
   },
   "file_extension": ".py",
   "mimetype": "text/x-python",
   "name": "python",
   "nbconvert_exporter": "python",
   "pygments_lexer": "ipython2",
   "version": "2.7.6"
  }
 },
 "nbformat": 4,
 "nbformat_minor": 5
}
